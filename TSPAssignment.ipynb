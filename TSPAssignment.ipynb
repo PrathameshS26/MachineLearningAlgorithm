{
 "cells": [
  {
   "cell_type": "markdown",
   "id": "01cd0091",
   "metadata": {},
   "source": [
    "### Importing the Libraries "
   ]
  },
  {
   "cell_type": "code",
   "execution_count": 834,
   "id": "f74380d6",
   "metadata": {},
   "outputs": [],
   "source": [
    "from bs4 import BeautifulSoup as bs\n",
    "import lxml\n",
    "import xml.etree.ElementTree as ET\n",
    "from random import choice\n",
    "import random \n",
    "import numpy as np\n",
    "import time\n",
    "import glob\n",
    "import matplotlib.pyplot as plt\n",
    "import pandas as pd"
   ]
  },
  {
   "cell_type": "code",
   "execution_count": 835,
   "id": "84e2ed8d",
   "metadata": {},
   "outputs": [],
   "source": [
    "RUNS = 5 #number of time an experiment should run"
   ]
  },
  {
   "cell_type": "code",
   "execution_count": 836,
   "id": "13a4adb0",
   "metadata": {},
   "outputs": [],
   "source": [
    "#A custom exception class to handle the termination of a run based on number of fitness evaluations\n",
    "class TerminationException(Exception):\n",
    "    pass"
   ]
  },
  {
   "cell_type": "markdown",
   "id": "cd190b18",
   "metadata": {},
   "source": [
    "### Parse the Burma file extract the contents"
   ]
  },
  {
   "cell_type": "code",
   "execution_count": 837,
   "id": "7b719d8c",
   "metadata": {},
   "outputs": [],
   "source": [
    "# Parse the XML file\n",
    "tree = ET.parse(\"burma14.xml\")\n",
    "burma_root = tree.getroot()"
   ]
  },
  {
   "cell_type": "code",
   "execution_count": 838,
   "id": "91da08a6",
   "metadata": {},
   "outputs": [],
   "source": [
    "# Find the graph element\n",
    "graph = burma_root.find('graph')"
   ]
  },
  {
   "cell_type": "code",
   "execution_count": 839,
   "id": "dfe21df8",
   "metadata": {},
   "outputs": [],
   "source": [
    "# Initialize variables\n",
    "burma_num_vertices = int(burma_root.find('description').text.split('-')[0])\n",
    "burma_precision = int(burma_root.find('doublePrecision').text)\n",
    "burma_cost_matrix = np.zeros((burma_num_vertices, burma_num_vertices))"
   ]
  },
  {
   "cell_type": "code",
   "execution_count": 840,
   "id": "8ca26a2e",
   "metadata": {},
   "outputs": [],
   "source": [
    "# Initialize vertex_id\n",
    "vertex_id = 0"
   ]
  },
  {
   "cell_type": "code",
   "execution_count": 841,
   "id": "d2f4e206",
   "metadata": {},
   "outputs": [
    {
     "name": "stdout",
     "output_type": "stream",
     "text": [
      "[[   0.  153.  510.  706.  966.  581.  455.   70.  160.  372.  157.  567.\n",
      "   342.  398.]\n",
      " [ 153.    0.  422.  664.  997.  598.  507.  197.  311.  479.  310.  581.\n",
      "   417.  376.]\n",
      " [ 510.  422.    0.  289.  744.  390.  437.  491.  645.  880.  618.  374.\n",
      "   455.  211.]\n",
      " [ 706.  664.  289.    0.  491.  265.  410.  664.  804. 1070.  768.  259.\n",
      "   499.  310.]\n",
      " [ 966.  997.  744.  491.    0.  400.  514.  902.  990. 1261.  947.  418.\n",
      "   635.  636.]\n",
      " [ 581.  598.  390.  265.  400.    0.  168.  522.  634.  910.  593.   19.\n",
      "   284.  239.]\n",
      " [ 455.  507.  437.  410.  514.  168.    0.  389.  482.  757.  439.  163.\n",
      "   124.  232.]\n",
      " [  70.  197.  491.  664.  902.  522.  389.    0.  154.  406.  133.  508.\n",
      "   273.  355.]\n",
      " [ 160.  311.  645.  804.  990.  634.  482.  154.    0.  276.   43.  623.\n",
      "   358.  498.]\n",
      " [ 372.  479.  880. 1070. 1261.  910.  757.  406.  276.    0.  318.  898.\n",
      "   633.  761.]\n",
      " [ 157.  310.  618.  768.  947.  593.  439.  133.   43.  318.    0.  582.\n",
      "   315.  464.]\n",
      " [ 567.  581.  374.  259.  418.   19.  163.  508.  623.  898.  582.    0.\n",
      "   275.  221.]\n",
      " [ 342.  417.  455.  499.  635.  284.  124.  273.  358.  633.  315.  275.\n",
      "     0.  247.]\n",
      " [ 398.  376.  211.  310.  636.  239.  232.  355.  498.  761.  464.  221.\n",
      "   247.    0.]]\n"
     ]
    }
   ],
   "source": [
    "# Iterate through the edge elements and populate the cost matrix\n",
    "for vertex in graph.findall('vertex'):\n",
    "    for edge in vertex.findall('edge'):\n",
    "        target_vertex = int(edge.text)\n",
    "        cost = float(edge.attrib['cost'])\n",
    "        burma_cost_matrix[vertex_id, target_vertex] = cost\n",
    "\n",
    "    # Increment vertex_id\n",
    "    vertex_id += 1\n",
    "\n",
    "# Print the cost matrix (optional)\n",
    "print(burma_cost_matrix)\n",
    "\n",
    "num_burma_cities = burma_num_vertices"
   ]
  },
  {
   "cell_type": "markdown",
   "id": "10266d33",
   "metadata": {},
   "source": [
    "### Parse the Brazil file extract the contents"
   ]
  },
  {
   "cell_type": "code",
   "execution_count": 842,
   "id": "e5c78bff",
   "metadata": {},
   "outputs": [],
   "source": [
    "# Parse the XML file\n",
    "tree = ET.parse(\"brazil58.xml\")\n",
    "brazil_root = tree.getroot()"
   ]
  },
  {
   "cell_type": "code",
   "execution_count": 843,
   "id": "b022ccbe",
   "metadata": {},
   "outputs": [],
   "source": [
    "# Find the graph element\n",
    "graph = brazil_root.find('graph')"
   ]
  },
  {
   "cell_type": "code",
   "execution_count": 844,
   "id": "60cc8573",
   "metadata": {},
   "outputs": [],
   "source": [
    "# Initialize variables\n",
    "brazil_num_vertices = int(brazil_root.find('description').text.split()[0])\n",
    "brazil_precision = int(burma_root.find('doublePrecision').text)\n",
    "brazil_cost_matrix = np.zeros((brazil_num_vertices, brazil_num_vertices))"
   ]
  },
  {
   "cell_type": "code",
   "execution_count": 845,
   "id": "7cc4135f",
   "metadata": {},
   "outputs": [],
   "source": [
    "# Initialize vertex_id\n",
    "vertex_id = 0"
   ]
  },
  {
   "cell_type": "code",
   "execution_count": 846,
   "id": "481f5262",
   "metadata": {},
   "outputs": [
    {
     "name": "stdout",
     "output_type": "stream",
     "text": [
      "[[   0. 2635. 2713. ... 3870. 1417.  739.]\n",
      " [2635.    0.  314. ... 2072. 1196. 1517.]\n",
      " [2713.  314.    0. ... 1882. 2699. 1557.]\n",
      " ...\n",
      " [3870. 2072. 1882. ...    0. 2328. 2986.]\n",
      " [1417. 1196. 2699. ... 2328.    0.  962.]\n",
      " [ 739. 1517. 1557. ... 2986.  962.    0.]]\n"
     ]
    }
   ],
   "source": [
    "# Iterate through the edge elements and populate the cost matrix\n",
    "for vertex in graph.findall('vertex'):\n",
    "    for edge in vertex.findall('edge'):\n",
    "        target_vertex = int(edge.text)\n",
    "        cost = float(edge.attrib['cost'])\n",
    "        brazil_cost_matrix[vertex_id, target_vertex] = cost\n",
    "\n",
    "    # Increment vertex_id\n",
    "    vertex_id += 1\n",
    "\n",
    "# Print the cost matrix (optional)\n",
    "print(brazil_cost_matrix)\n",
    "\n",
    "num_brazil_cities = brazil_num_vertices"
   ]
  },
  {
   "cell_type": "markdown",
   "id": "c58d9832",
   "metadata": {},
   "source": [
    "### Generate a random Chromosome / Tour"
   ]
  },
  {
   "cell_type": "code",
   "execution_count": 847,
   "id": "c1281715",
   "metadata": {},
   "outputs": [],
   "source": [
    "#Generate random tour depending on the number of cities from each country\n",
    "def generateTour(num_cities):\n",
    "    tour = random.sample(range(1, num_cities + 1), num_cities)\n",
    "    return tour"
   ]
  },
  {
   "cell_type": "markdown",
   "id": "f1e7297e",
   "metadata": {},
   "source": [
    "### Setting  Genetic Algorithm Parameters"
   ]
  },
  {
   "cell_type": "code",
   "execution_count": 848,
   "id": "a388b8a9",
   "metadata": {},
   "outputs": [],
   "source": [
    "population_size = 100 # Size of the population\n",
    "mutation_rate = 0.1 # setting the mutation rate"
   ]
  },
  {
   "cell_type": "code",
   "execution_count": 849,
   "id": "d335ab68",
   "metadata": {},
   "outputs": [],
   "source": [
    "generation = 0"
   ]
  },
  {
   "cell_type": "markdown",
   "id": "0637f629",
   "metadata": {},
   "source": [
    "### Generate a population "
   ]
  },
  {
   "cell_type": "code",
   "execution_count": 850,
   "id": "10278de4",
   "metadata": {},
   "outputs": [],
   "source": [
    "# Generating based on the population size\n",
    "def generateRandomPopulation(num_cities):\n",
    "    population = []\n",
    "    for _ in range(population_size):\n",
    "        population.append(generateTour(num_cities))\n",
    "    return population"
   ]
  },
  {
   "cell_type": "markdown",
   "id": "24a637ff",
   "metadata": {},
   "source": [
    "### Evaluate Fitness Function\n"
   ]
  },
  {
   "cell_type": "code",
   "execution_count": 851,
   "id": "4e6ba9b2",
   "metadata": {},
   "outputs": [],
   "source": [
    "##Evaluating the fitness value for the individual gene\n",
    "#def generatefitness(individual, precision, country):\n",
    "#    global generation\n",
    "#    \n",
    "#    if country == \"Burma\" :\n",
    "#        if generation > 0 :\n",
    "#            cost_matrix = burma_cost_matrix;\n",
    "#            cost = 0\n",
    "#            for i in range(len(individual) - 1):\n",
    "#                cost += cost_matrix[individual[i] - 1][individual[i + 1] - 1]\n",
    "#            cost += cost_matrix[individual[-1] - 1][individual[0] - 1]\n",
    "#            \n",
    "#            generation -= 1\n",
    "#            return round(1/cost, precision)\n",
    "#        else :\n",
    "#            raise TerminationException\n",
    "#    elif country == \"Brazil\":\n",
    "#        if generation > 0 :\n",
    "#            cost_matrix = brazil_cost_matrix;\n",
    "#            cost = 0\n",
    "#            for i in range(len(individual) - 1):\n",
    "#                cost += cost_matrix[individual[i] - 1][individual[i + 1] - 1]\n",
    "#            cost += cost_matrix[individual[-1] - 1][individual[0] - 1]\n",
    "#            \n",
    "#            generation -= 1\n",
    "#            return round(1/cost, precision)\n",
    "#        else:\n",
    "#             raise TerminationException  \n",
    "        "
   ]
  },
  {
   "cell_type": "code",
   "execution_count": 852,
   "id": "e2a490c8",
   "metadata": {},
   "outputs": [],
   "source": [
    "def generatefitness(individual, precision, country):\n",
    "    global generation \n",
    "    \n",
    "    if generation > 0:\n",
    "        if country == \"Burma\":\n",
    "            cost_matrix = burma_cost_matrix\n",
    "        elif country == \"Brazil\":\n",
    "            cost_matrix = brazil_cost_matrix\n",
    "        else:\n",
    "            raise ValueError(\"Invalid country\")\n",
    "    \n",
    "        cost = 0\n",
    "        for i in range(len(individual) - 1):\n",
    "            cost += cost_matrix[individual[i] - 1][individual[i + 1] - 1]\n",
    "        cost += cost_matrix[individual[-1] - 1][individual[0] - 1]\n",
    "        generation -= 1\n",
    "        return round(1 / cost, precision)\n",
    "    "
   ]
  },
  {
   "cell_type": "markdown",
   "id": "625b58b1",
   "metadata": {},
   "source": [
    "### Function for Population Fitness"
   ]
  },
  {
   "cell_type": "code",
   "execution_count": 853,
   "id": "09153012",
   "metadata": {},
   "outputs": [],
   "source": [
    "def generatePopulationFitness(population, precision,country):\n",
    "    fitness = []\n",
    "    for element in population:\n",
    "        fitness.append(generatefitness(element,precision,country))\n",
    "    return fitness\n",
    "\n",
    "# population_fitness = GetPopulationFitness(population)\n",
    "# print(population_fitness)"
   ]
  },
  {
   "cell_type": "markdown",
   "id": "5d19a9b7",
   "metadata": {},
   "source": [
    "### Swap Mutation "
   ]
  },
  {
   "cell_type": "code",
   "execution_count": 854,
   "id": "a18c64ae",
   "metadata": {},
   "outputs": [],
   "source": [
    "#Performing swap mutation on the input tour\n",
    "def swapMutate(tour, num_cities):\n",
    "    if random.random() < mutation_rate:\n",
    "        # Swap two random cities in the tour\n",
    "        idx1, idx2 = random.sample(range(num_cities), 2)\n",
    "        tour[idx1], tour[idx2] = tour[idx2], tour[idx1]\n",
    "    return tour"
   ]
  },
  {
   "cell_type": "markdown",
   "id": "20e64e69",
   "metadata": {},
   "source": [
    "### Inversion Mutation"
   ]
  },
  {
   "cell_type": "code",
   "execution_count": 855,
   "id": "861ed40a",
   "metadata": {},
   "outputs": [],
   "source": [
    "def inversionMutation(tour):\n",
    "    # Select two random positions in the chromosome\n",
    "    pos1, pos2 = sorted(random.sample(range(len(tour)), 2))\n",
    "    print(pos1, pos2)\n",
    "    # Perform inversion mutation\n",
    "    segment_to_invert = tour[pos1:pos2 + 1]\n",
    "    inverted_segment = segment_to_invert[::-1]\n",
    "\n",
    "    # Update the chromosome with the inverted segment\n",
    "    tour[pos1:pos2 + 1] = inverted_segment\n",
    "    \n",
    "    return tour"
   ]
  },
  {
   "cell_type": "markdown",
   "id": "87a80ed2",
   "metadata": {},
   "source": [
    "### Crossover Function"
   ]
  },
  {
   "cell_type": "code",
   "execution_count": 856,
   "id": "e3702f25",
   "metadata": {},
   "outputs": [],
   "source": [
    "#Performing single point crossover using two parents\n",
    "def singlePointCrossover(parent1, parent2):\n",
    "    #Choosing a random point in the parent \n",
    "    point = np.random.randint(1,len(parent1))\n",
    "    #Spliting the chromosome and adding the distinct part together\n",
    "    parent1_left = parent1[:point]\n",
    "    parent1_right = parent1[point:]\n",
    "    parent2_left = parent2[:point]\n",
    "    parent2_right = parent2[point:]\n",
    "    child1 = parent1_left + parent2_right\n",
    "    child2 = parent2_left + parent1_right\n",
    "    #find missing and conflicting data in parent1 \n",
    "    parent1_missing = [i for i in parent1 if i not in child1]\n",
    "    parent1_conflict = [i for i in parent1_left if i in parent2_right]\n",
    "    #fix parent1 by replacing the conflicting data with the missing elements\n",
    "    for element in child1:\n",
    "        if element in parent1_conflict:\n",
    "            copy = element\n",
    "            child1[child1.index(element)] = choice([i for i in parent1_missing if i not in child1])\n",
    "            parent1_conflict.remove(copy)\n",
    "\n",
    "    #find missing and conflicting data in parent2\n",
    "    parent2_missing = [i for i in parent2 if i not in child2]\n",
    "    parent2_conflict = [i for i in parent2_left if i in parent1_right]\n",
    "    #fix parent2ee by replacing the conflicting data with the missing elements\n",
    "    for element in child2:\n",
    "        if element in parent2_conflict:\n",
    "            copy = element\n",
    "            child2[child2.index(element)] = choice([i for i in parent2_missing if i not in child2])\n",
    "            parent2_conflict.remove(copy)\n",
    "    \n",
    "    return child1,child2"
   ]
  },
  {
   "cell_type": "markdown",
   "id": "b4434a2e",
   "metadata": {},
   "source": [
    "### Ordered Crossover Function"
   ]
  },
  {
   "cell_type": "code",
   "execution_count": 857,
   "id": "6b483ac7",
   "metadata": {},
   "outputs": [],
   "source": [
    "def orderedCrossover(parent1,parent2):\n",
    "    size = len(parent1)\n",
    "\n",
    "    # Choose random start/end position for crossover\n",
    "    child1, child2 = [-1] * size, [-1] * size\n",
    "    start, end = sorted([random.randrange(size) for _ in range(2)])\n",
    "\n",
    "    # Replicate parent1's sequence for child1, parent2's sequence for child2\n",
    "    child1_inherited = []\n",
    "    child2_inherited = []\n",
    "    for i in range(start, end + 1):\n",
    "        child1[i] = parent1[i]\n",
    "        child2[i] = parent2[i]\n",
    "        child1_inherited.append(parent1[i])\n",
    "        child2_inherited.append(parent2[i])\n",
    "\n",
    "    print(child1, child2)\n",
    "    #Fill the remaining position with the other parents' entries\n",
    "    current_parent2_position, current_parent1_position = 0, 0\n",
    "\n",
    "    fixed_pos = list(range(start, end + 1))       \n",
    "    i = 0\n",
    "    while i < size:\n",
    "        if i in fixed_pos:\n",
    "            i += 1\n",
    "            continue\n",
    "\n",
    "        test_child1 = child1[i]\n",
    "        if test_child1==-1: \n",
    "            parent2_trait = parent2[current_parent2_position]\n",
    "            while parent2_trait in child1_inherited:\n",
    "                current_parent2_position += 1\n",
    "                parent2_trait = parent2[current_parent2_position]\n",
    "            child1[i] = parent2_trait\n",
    "            child1_inherited.append(parent2_trait)\n",
    "            \n",
    "        test_child2 = child2[i]\n",
    "        if test_child2==-1: \n",
    "            parent1_trait = parent1[current_parent1_position]\n",
    "            while parent1_trait in child2_inherited:\n",
    "                current_parent1_position += 1\n",
    "                parent1_trait = parent1[current_parent1_position]\n",
    "            child2[i] = parent1_trait\n",
    "            child2_inherited.append(parent1_trait)\n",
    "\n",
    "        i +=1\n",
    "\n",
    "    return child1, child2"
   ]
  },
  {
   "cell_type": "markdown",
   "id": "f816b2d8",
   "metadata": {},
   "source": [
    "### Selection Functions"
   ]
  },
  {
   "cell_type": "code",
   "execution_count": 858,
   "id": "696a658b",
   "metadata": {},
   "outputs": [],
   "source": [
    "def tournament_selection(population,size, cost_matrix):\n",
    "    tournament = []\n",
    "    #Choose the number(size) from the population and add that to tournament list\n",
    "    for i in range(size):\n",
    "        tournament.append(choice([solution for solution in population]))\n",
    "    #The winner of the tournament is the solution with the best fitness\n",
    "    parent = max(tournament, key=lambda solution: generatefitness(solution, cost_matrix))\n",
    "    return parent"
   ]
  },
  {
   "cell_type": "code",
   "execution_count": 859,
   "id": "bc000f44",
   "metadata": {},
   "outputs": [],
   "source": [
    "def rankBasedSelection(population,pop_fitness):\n",
    "    #Combine the population and its fitness\n",
    "    fitness_population = sorted(zip(pop_fitness, population))\n",
    "    #Sort the population and fitness\n",
    "    sorted_population = [x for y,x in fitness_population]\n",
    "    sorted_pop_fitness = [y for y,x in fitness_population]\n",
    "    rank = []\n",
    "    #Assign ranks to the solutions in the population\n",
    "    for i in range(len(sorted_population)):\n",
    "        rank.append(i+1)\n",
    "    rank_total = sum(rank)\n",
    "    probability = []\n",
    "    #Find the probabilities of choosing a solution from the population based on its rank\n",
    "    for r in rank:\n",
    "        probability.append(r/rank_total)\n",
    "    indeces = np.arange(len(sorted_population))\n",
    "    #Choose 2 parents randomly based on the probabilities\n",
    "    choice_1, choice_2 = np.random.choice(indeces,2,replace=True,p=probability)\n",
    "    parent_1, parent_2 = sorted_population[choice_1], sorted_population[choice_2]\n",
    "    return parent_1,parent_2\n",
    "    "
   ]
  },
  {
   "cell_type": "code",
   "execution_count": 860,
   "id": "591231dc",
   "metadata": {},
   "outputs": [],
   "source": [
    "def rouletteWheelSelection(population, pop_fitness):\n",
    "    total_fitness = sum(pop_fitness)\n",
    "    \n",
    "    # Select the first parent\n",
    "    selection_point1 = random.uniform(0, total_fitness)\n",
    "    cumulative_fitness = 0\n",
    "    for i, fitness in enumerate(pop_fitness):\n",
    "        cumulative_fitness += fitness\n",
    "        if cumulative_fitness >= selection_point1:\n",
    "            parent1 = population[i]\n",
    "            break\n",
    "\n",
    "    # Select the second parent\n",
    "    selection_point2 = random.uniform(0, total_fitness)\n",
    "    cumulative_fitness = 0\n",
    "    for i, fitness in enumerate(pop_fitness):\n",
    "        cumulative_fitness += fitness\n",
    "        if cumulative_fitness >= selection_point2:\n",
    "            parent2 = population[i]\n",
    "            break\n",
    "\n",
    "    return parent1, parent2"
   ]
  },
  {
   "cell_type": "markdown",
   "id": "1e3d8eb1",
   "metadata": {},
   "source": [
    "### Replacement Functions"
   ]
  },
  {
   "cell_type": "code",
   "execution_count": 861,
   "id": "7467cda9",
   "metadata": {},
   "outputs": [],
   "source": [
    "def replaceWeakest(population, population_fitness, child, child_fitness, precision):\n",
    "    #Search the worst fitness in the population and store it\n",
    "    worst_fitness_ind = min(pop_fitness)\n",
    "    #Replace the worst individual if the new candidate individual is better or the same\n",
    "    if (child is not None and child_fitness is not None and population is not None and population_fitness is not None):\n",
    "        if round(child_fitness,precision) >= round(worst_fitness_ind,precision):\n",
    "            list_index = pop_fitness.index(worst_fitness_ind)\n",
    "            del pop_fitness[list_index]\n",
    "            del population[list_index]\n",
    "            population.append(child)\n",
    "            pop_fitness.append(child_fitness)\n",
    "        return population, pop_fitness"
   ]
  },
  {
   "cell_type": "markdown",
   "id": "8db99aec",
   "metadata": {},
   "source": [
    "### Average Fitness Of The Population"
   ]
  },
  {
   "cell_type": "code",
   "execution_count": 862,
   "id": "229cd134",
   "metadata": {},
   "outputs": [],
   "source": [
    "def calculateAverageFitness(population_fitness,size):\n",
    "    return sum(population_fitness)/size"
   ]
  },
  {
   "cell_type": "markdown",
   "id": "b4696fc6",
   "metadata": {},
   "source": [
    "### Best Fitness Value "
   ]
  },
  {
   "cell_type": "code",
   "execution_count": 863,
   "id": "7d9bc791",
   "metadata": {},
   "outputs": [],
   "source": [
    "def calculateBestSolution(population, population_fitness):\n",
    "    best_fitness = max(population_fitness)\n",
    "    list_index = population_fitness.index(best_fitness)\n",
    "    return population[list_index],best_fitness"
   ]
  },
  {
   "cell_type": "markdown",
   "id": "a8533bfe",
   "metadata": {},
   "source": [
    "### TSP Default Parameter Values\n",
    "\n",
    "#### Below are the default parameter values\n",
    "1. Population size = 100\n",
    "2. Tournament size = 10\n",
    "3. Generation size = 10000\n",
    "4. Mutation rate = 0.1\n",
    "5. Precision = 15\n",
    "6. Crossover function = Single point crossover\n",
    "7. Mutation function = Swap Mutation\n",
    "8. Replacement function = Replacement of weakest individual\n"
   ]
  },
  {
   "cell_type": "markdown",
   "id": "1d812387",
   "metadata": {},
   "source": [
    "## Experiment 1\n",
    "\n",
    "#### We aim to determine the optimal selection technique in this experiment. We contrast tournament selection, rank-based selection, and fitness proportionate selection. Every other parameter remains unchanged, maintaining their default values. To fine-tune the tournament solution, account for variance in the population size and tournament size. "
   ]
  },
  {
   "cell_type": "markdown",
   "id": "54ce3859",
   "metadata": {},
   "source": [
    "### Calculate The Best Fitness Selection for Burma Data"
   ]
  },
  {
   "cell_type": "code",
   "execution_count": 864,
   "id": "a4f9e8ef",
   "metadata": {},
   "outputs": [
    {
     "ename": "TypeError",
     "evalue": "cannot unpack non-iterable NoneType object",
     "output_type": "error",
     "traceback": [
      "\u001b[1;31m---------------------------------------------------------------------------\u001b[0m",
      "\u001b[1;31mTypeError\u001b[0m                                 Traceback (most recent call last)",
      "Cell \u001b[1;32mIn[864], line 27\u001b[0m\n\u001b[0;32m     25\u001b[0m             f \u001b[38;5;241m=\u001b[39m swapMutate(d,num_burma_cities )\n\u001b[0;32m     26\u001b[0m             f_fitness \u001b[38;5;241m=\u001b[39m generatefitness(f,burma_precision,\u001b[38;5;124m\"\u001b[39m\u001b[38;5;124mBurma\u001b[39m\u001b[38;5;124m\"\u001b[39m)\n\u001b[1;32m---> 27\u001b[0m             population,population_fitness \u001b[38;5;241m=\u001b[39m replaceWeakest(population, population_fitness, e, e_fitness, burma_precision)\n\u001b[0;32m     28\u001b[0m             population,population_fitness \u001b[38;5;241m=\u001b[39m replaceWeakest(population, population_fitness, f, f_fitness, burma_precision)           \n\u001b[0;32m     30\u001b[0m \u001b[38;5;28;01mexcept\u001b[39;00m TerminationException:\n",
      "\u001b[1;31mTypeError\u001b[0m: cannot unpack non-iterable NoneType object"
     ]
    }
   ],
   "source": [
    "# Lists to store data for plotting\n",
    "average_fitness_history = []\n",
    "best_fitness_history = []\n",
    "\n",
    "for run in range(RUNS):\n",
    "    POPULATION_SIZE = 100\n",
    "    generation = 10000\n",
    "    ts = str(time.time())\n",
    "    ts = ts.replace(\".\",\"_\")\n",
    "    \n",
    "    try:\n",
    "        population = generateRandomPopulation(num_burma_cities)\n",
    "        population_fitness = generatePopulationFitness(population, burma_precision, \"Burma\")\n",
    "        while True:\n",
    "                average_fitness = calculateAverageFitness(population_fitness,POPULATION_SIZE)\n",
    "                average_fitness = str(\"{:.\"+str(burma_precision)+\"f}\").format(average_fitness)\n",
    "                best_solution,best_fitness = calculateBestSolution(population,population_fitness)\n",
    "                best_fitness = str(\"{:.\"+str(burma_precision)+\"f}\").format(best_fitness)\n",
    "                best_solution = ' '.join(str(g) for g in best_solution)\n",
    "                \n",
    "                a,b = rouletteWheelSelection(population,population_fitness)\n",
    "                c,d = singlePointCrossover(a,b)\n",
    "                e = swapMutate(c, num_burma_cities)\n",
    "                e_fitness = generatefitness(e,burma_precision,\"Burma\")\n",
    "                f = swapMutate(d,num_burma_cities )\n",
    "                f_fitness = generatefitness(f,burma_precision,\"Burma\")\n",
    "                population,population_fitness = replaceWeakest(population, population_fitness, e, e_fitness, burma_precision)\n",
    "                population,population_fitness = replaceWeakest(population, population_fitness, f, f_fitness, burma_precision)           \n",
    "                \n",
    "    except TerminationException:\n",
    "        print(\"---TERMINATION CONDITION REACHED---\")\n",
    "    \n",
    "    average_fitness_history.append(float(average_fitness))\n",
    "    best_fitness_history.append(float(best_fitness))\n",
    "    print(str(\"{:.\"+str(burma_precision)+\"f}\").format(calculateAverageFitness(population_fitness,POPULATION_SIZE)))\n",
    "    print(calculateBestSolution(population,population_fitness))"
   ]
  },
  {
   "cell_type": "code",
   "execution_count": null,
   "id": "c038b5cf",
   "metadata": {},
   "outputs": [],
   "source": [
    "# Plotting the average fitness over generations\n",
    "plt.figure(figsize=(10, 5))\n",
    "plt.plot(range(len(average_fitness_history)), average_fitness_history, label='Average Fitness')\n",
    "plt.title('Average Fitness Over Generations')\n",
    "plt.xlabel('Generations')\n",
    "plt.ylabel('Fitness')\n",
    "plt.legend()\n",
    "plt.show()"
   ]
  },
  {
   "cell_type": "code",
   "execution_count": null,
   "id": "def48e98",
   "metadata": {},
   "outputs": [],
   "source": [
    "# Plotting the best fitness over generations\n",
    "plt.figure(figsize=(10, 5))\n",
    "plt.plot(range(len(best_fitness_history)), best_fitness_history, label='Best Fitness')\n",
    "plt.title('Best Fitness Over Generations')\n",
    "plt.xlabel('Generations')\n",
    "plt.ylabel('Fitness')\n",
    "plt.legend()\n",
    "plt.show()"
   ]
  },
  {
   "cell_type": "code",
   "execution_count": null,
   "id": "77c855aa",
   "metadata": {},
   "outputs": [],
   "source": []
  },
  {
   "cell_type": "code",
   "execution_count": null,
   "id": "61ec7fa4",
   "metadata": {},
   "outputs": [],
   "source": [
    "    "
   ]
  }
 ],
 "metadata": {
  "kernelspec": {
   "display_name": "Python 3 (ipykernel)",
   "language": "python",
   "name": "python3"
  },
  "language_info": {
   "codemirror_mode": {
    "name": "ipython",
    "version": 3
   },
   "file_extension": ".py",
   "mimetype": "text/x-python",
   "name": "python",
   "nbconvert_exporter": "python",
   "pygments_lexer": "ipython3",
   "version": "3.11.5"
  }
 },
 "nbformat": 4,
 "nbformat_minor": 5
}
